#Importing Libraries
import pandas as pd
import matplotlib.pyplot as plt
import seaborn as sns

#Defining the path of file
file = "messi_goals.csv"
data = pd.read_csv(file, encoding = 'ISO-8859-1')

#Removing the Missing Values
data.dropna()

#Taking a look of data
data.head()
data.info()

#Shows the basic statistics
data.describe()

#Kurtosis of the data
data.kurt(numeric_only=True)

#Skewness of the data
data.skew(numeric_only=True)

#pie chart of goals by top 5 scoring competition
"""
Created a pie chart showing the distribution of goals scored in the top 5 competitions. 
"""

def plot_top5_goals_by_competition_pie(data):
    top5_competitions = data['Competition'].value_counts().nlargest(5)
    
    plt.figure(figsize=(10,8))
    top5_competitions.plot(kind='pie', autopct='%1.1f%%', startangle=140, colors=sns.color_palette("pastel"))
    plt.ylabel('Competitions')
    plt.title('Top 5 Competitions by Goals')
    plt.show()

#Calling the plot
plot_top5_goals_by_competition_pie(data)

#Line Chart of Goals over Years
""" 
Converted the date column to datetime.
Sorted the date column for cumulative goal counts.
Created a line chart for goals scored over years. 
"""

def plot_goals_over_time_line(data):
    data['Date'] = pd.to_datetime(data['Date'])
    data_sorted = data.sort_values('Date').reset_index(drop=True)
    data_sorted['Goals'] = range(1, len(data_sorted) + 1)
    
    plt.figure(figsize=(12, 6))
    plt.plot(data_sorted['Date'], data_sorted['Goals'], color='blue', marker='o', markersize=5)
    plt.xlabel('Year')
    plt.ylabel('Goals')
    plt.title('Goals Scored Over Years')
    plt.grid(True)
    plt.show()

#Calling the plot
plot_goals_over_time_line(data)

#Box plot of Top 10 Assisted Players and Minute
"""
Displayed only the top 10 players who have assisted messi.
Converted the Minute column to numeric.
Created a box plot for top 10 assisted players and minute of the goal.
"""

top_assist_players = assist_data['Goal_assist'].value_counts().head(10).index
top_assist_data = assist_data[assist_data['Goal_assist'].isin(top_assist_players)]
top_assist_data['Minute'] = pd.to_numeric(top_assist_data['Minute'])

plt.figure(figsize=(12, 6))
sns.boxplot(data=top_assist_data, x='Goal_assist', y='Minute', palette="Set2")
plt.title('Top 10 Assisted Players and Minute')
plt.xlabel('Assisted Player')
plt.ylabel('Minute of Goal Assist')
plt.xticks(rotation=45)
plt.show()
